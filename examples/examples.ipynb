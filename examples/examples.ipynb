{
 "cells": [
  {
   "cell_type": "code",
   "execution_count": 2,
   "metadata": {},
   "outputs": [],
   "source": [
    "include(\"../src/KernLogRegUtils.jl\")\n",
    "include(\"../src/LogReg.jl\");\n",
    "using LogReg, KernLogRegUtils, Plots, DataFrames\n",
    "\n",
    "function get_XY(csv)\n",
    "    df = readtable(csv)\n",
    "    return Matrix(df[2:end-1]), Array(df[:label])\n",
    "end;"
   ]
  },
  {
   "cell_type": "code",
   "execution_count": 9,
   "metadata": {},
   "outputs": [],
   "source": [
    "X,y = get_XY(\"data/gaus_3D_train.csv\");\n",
    "Xte, yte = get_XY(\"data/gaus_3D_test.csv\");"
   ]
  },
  {
   "cell_type": "markdown",
   "metadata": {},
   "source": [
    "![title](img/gaus.png)![title](img/linear.png)\n"
   ]
  },
  {
   "cell_type": "markdown",
   "metadata": {},
   "source": [
    "# Batch Gradient Descent"
   ]
  },
  {
   "cell_type": "markdown",
   "metadata": {},
   "source": [
    "## gaussian kernel"
   ]
  },
  {
   "cell_type": "code",
   "execution_count": 10,
   "metadata": {},
   "outputs": [
    {
     "name": "stdout",
     "output_type": "stream",
     "text": [
      "0.923"
     ]
    }
   ],
   "source": [
    "σ = get_σ(X)\n",
    "gaussian_kernel = give_gaus_kern(σ)\n",
    "pred = batchgd(X, y, 0, 200, 1, 0.01, gaussian_kernel);\n",
    "batch_score, preds = evaluate(Xte, yte, pred);\n",
    "print(batch_score)"
   ]
  },
  {
   "cell_type": "markdown",
   "metadata": {},
   "source": [
    "## linear kernel"
   ]
  },
  {
   "cell_type": "code",
   "execution_count": 11,
   "metadata": {},
   "outputs": [
    {
     "name": "stdout",
     "output_type": "stream",
     "text": [
      "0.512"
     ]
    }
   ],
   "source": [
    "pred = batchgd(X, y, 0, 200, 1, 0.01, dot);\n",
    "batch_score, preds = evaluate(Xte, yte, pred);\n",
    "print(batch_score)"
   ]
  },
  {
   "cell_type": "markdown",
   "metadata": {},
   "source": [
    "# Stochastic Gradient Descent"
   ]
  },
  {
   "cell_type": "code",
   "execution_count": 6,
   "metadata": {},
   "outputs": [
    {
     "name": "stdout",
     "output_type": "stream",
     "text": [
      "0.97"
     ]
    }
   ],
   "source": [
    "pred = sgd(X, y, 0, 2000, nothing, 0.01, gaussian_kernel);\n",
    "sgd_score, preds = evaluate(Xte, yte, pred);\n",
    "print(sgd_score)"
   ]
  },
  {
   "cell_type": "markdown",
   "metadata": {},
   "source": [
    "# Minibatch Gradient Descent"
   ]
  },
  {
   "cell_type": "code",
   "execution_count": 7,
   "metadata": {},
   "outputs": [
    {
     "name": "stdout",
     "output_type": "stream",
     "text": [
      "0.96"
     ]
    }
   ],
   "source": [
    "pred = minibatchgd(X, y, 0, 500, 30, 0.01, 0.01, gaussian_kernel);\n",
    "minbatch_score, preds = evaluate(Xte, yte, pred);\n",
    "print(minbatch_score)"
   ]
  },
  {
   "cell_type": "code",
   "execution_count": null,
   "metadata": {},
   "outputs": [],
   "source": []
  },
  {
   "cell_type": "code",
   "execution_count": 4,
   "metadata": {},
   "outputs": [],
   "source": [
    "X,y = get_XY(\"data/lin_data_train.csv\");\n",
    "Xte, yte = get_XY(\"data/lin_data_test.csv\");"
   ]
  },
  {
   "cell_type": "code",
   "execution_count": 5,
   "metadata": {},
   "outputs": [
    {
     "name": "stdout",
     "output_type": "stream",
     "text": [
      "0.544"
     ]
    }
   ],
   "source": [
    "pred = batchgd(X, y, 0, 200, 1, 0.01, dot);\n",
    "batch_score, preds = evaluate(Xte, yte, pred);\n",
    "print(batch_score)"
   ]
  },
  {
   "cell_type": "code",
   "execution_count": null,
   "metadata": {},
   "outputs": [],
   "source": []
  },
  {
   "cell_type": "code",
   "execution_count": null,
   "metadata": {},
   "outputs": [],
   "source": []
  }
 ],
 "metadata": {
  "kernelspec": {
   "display_name": "Julia 0.6.0",
   "language": "julia",
   "name": "julia-0.6"
  },
  "language_info": {
   "file_extension": ".jl",
   "mimetype": "application/julia",
   "name": "julia",
   "version": "0.6.0"
  }
 },
 "nbformat": 4,
 "nbformat_minor": 2
}
