{
 "cells": [
  {
   "cell_type": "markdown",
   "metadata": {},
   "source": [
    "The focus of this project will be Kernel Logistic Regression, and it will be both review and implementation. \n",
    "As far as I know, there is not one wikipedia page dedicated to kernel logistic regression; \n",
    "so I would like to write one. I would also like to write a library for Kernel Logistic Regression in Julia,\n",
    "    a fast-growing language for numerical computing.  There may be libraries that do this already, but none that I have found. \n",
    "    The library would include a number of kernels for users to try and would include a gradient descent implementation. \n",
    "                    If time, I would like to also create a YouTube video for kernel logistic regression, since a lot of learning these days is done via video."
   ]
  },
  {
   "cell_type": "code",
   "execution_count": 5,
   "metadata": {},
   "outputs": [],
   "source": [
    "using DataFrames, RDatasets"
   ]
  },
  {
   "cell_type": "code",
   "execution_count": 6,
   "metadata": {},
   "outputs": [
    {
     "data": {
      "text/plain": [
       "get_XY (generic function with 1 method)"
      ]
     },
     "execution_count": 6,
     "metadata": {},
     "output_type": "execute_result"
    }
   ],
   "source": [
    "function get_XY(csv)\n",
    "    df = readtable(csv)\n",
    "    return Matrix(df[2:end-1]), Array(df[:label])\n",
    "end"
   ]
  },
  {
   "cell_type": "code",
   "execution_count": 7,
   "metadata": {},
   "outputs": [],
   "source": [
    "X,y = get_XY(\"gaus_2D_train.csv\");\n",
    "Xte, yte = get_XY(\"gaus_2D_test.csv\");"
   ]
  },
  {
   "cell_type": "code",
   "execution_count": 60,
   "metadata": {},
   "outputs": [
    {
     "data": {
      "text/plain": [
       "cost (generic function with 1 method)"
      ]
     },
     "execution_count": 60,
     "metadata": {},
     "output_type": "execute_result"
    }
   ],
   "source": [
    "function give_gaus_kern(s)\n",
    "    function gaus_kern(x1,x2)\n",
    "        return e^((-norm(x1-x2)^2)/(2*s^2))\n",
    "    end\n",
    "    return gaus_kern\n",
    "end\n",
    "\n",
    "function sigmoid(x)\n",
    "    1 ./ (1 .+ e.^(-x))\n",
    "end\n",
    "\n",
    "# finds a good value of σ for the gaussian kernel. average distances of data points\n",
    "function get_σ(X)\n",
    "    n,p = size(X)\n",
    "    tot = 0.0\n",
    "    for i in 1:(size(X)[1]-1)\n",
    "        tot += sum((sum((X[i+1:end,:] .- reshape(X[i,:], (1,p))).^2, 2)).^0.5)\n",
    "    end\n",
    "    avg = tot / ((n-1)*n/2.0)\n",
    "    return avg\n",
    "end\n",
    "\n",
    "function get_γ(K, λ)\n",
    "    n = size(K)[1]\n",
    "    return 1.0 / maximum(eigvals(K./n + λ.*eye(n)))\n",
    "end\n",
    "\n",
    "function create_kernel_matrix(kern, X)\n",
    "    n = size(X)[1]\n",
    "    K = zeros((n,n))\n",
    "    for i in 1:n\n",
    "        for j in 1:n\n",
    "            K[i,j] = kern(X[i,:], X[j,:])\n",
    "        end\n",
    "    end\n",
    "    return K\n",
    "end\n",
    "\n",
    "function cost(c, K, y)\n",
    "    return -sum(log.(sigmoid(y.*(K*c))))\n",
    "end"
   ]
  },
  {
   "cell_type": "code",
   "execution_count": 61,
   "metadata": {},
   "outputs": [
    {
     "data": {
      "text/plain": [
       "2-element Array{Int64,1}:\n",
       " 1\n",
       " 2"
      ]
     },
     "execution_count": 61,
     "metadata": {},
     "output_type": "execute_result"
    }
   ],
   "source": [
    "[1 2 3][1:2]"
   ]
  },
  {
   "cell_type": "code",
   "execution_count": 92,
   "metadata": {},
   "outputs": [
    {
     "data": {
      "text/plain": [
       "batchgd (generic function with 3 methods)"
      ]
     },
     "execution_count": 92,
     "metadata": {},
     "output_type": "execute_result"
    }
   ],
   "source": [
    "function batchgd(X, y, λ, n_epochs, ϵ=0.01, kern=\"gaussian\")    \n",
    "    n = size(X)[1]\n",
    "    if kern == \"gaussian\"\n",
    "        σ = get_σ(X)\n",
    "        k = give_gaus_kern(σ)\n",
    "        \n",
    "    elseif kern == \"linear\"\n",
    "        k = dot\n",
    "    end\n",
    "    \n",
    "    K = create_kernel_matrix(k, X)\n",
    "    \n",
    "    γ = get_γ(K, λ)\n",
    "        \n",
    "    c = zeros(n)\n",
    "    objectives = zeros(n_epochs)\n",
    "    c = c + (y - sigmoid(K*c) + 2*λ.*c)\n",
    "    objectives[1] = cost(c, K, y)\n",
    "    \n",
    "    epochs_used = n_epochs\n",
    "    \n",
    "    for epoch in 2:n_epochs\n",
    "        c = c + (1.0 / (1+epoch)).*(y - sigmoid(K*c) + 2*λ.*c)\n",
    "        \n",
    "        objectives[epoch] = cost(c, K, y)\n",
    "        if abs(objectives[epoch] - objectives[epoch-1])/objectives[epoch] < ϵ\n",
    "            epochs_used = epoch\n",
    "            break\n",
    "        end\n",
    "    end\n",
    "    \n",
    "    function prob_predictor(z)\n",
    "        tot = 0\n",
    "        for i in 1:n\n",
    "            tot += k(X[i,:], z)*c[i]\n",
    "        end\n",
    "\n",
    "        return 1.0 / (1 + e^(-tot))\n",
    "    end\n",
    "    \n",
    "    return prob_predictor, objectives[1:epochs_used]\n",
    "end"
   ]
  },
  {
   "cell_type": "code",
   "execution_count": 93,
   "metadata": {},
   "outputs": [
    {
     "ename": "LoadError",
     "evalue": "\u001b[91merror in method definition: function StatsBase.predict must be explicitly imported to be extended\u001b[39m",
     "output_type": "error",
     "traceback": [
      "\u001b[91merror in method definition: function StatsBase.predict must be explicitly imported to be extended\u001b[39m",
      "",
      "Stacktrace:",
      " [1] \u001b[1minclude_string\u001b[22m\u001b[22m\u001b[1m(\u001b[22m\u001b[22m::String, ::String\u001b[1m)\u001b[22m\u001b[22m at \u001b[1m./loading.jl:515\u001b[22m\u001b[22m"
     ]
    }
   ],
   "source": [
    "function predict(test_x, f)\n",
    "    n = size(test_x)[1]\n",
    "    preds = zeros(n)\n",
    "    for i in 1:n\n",
    "        preds[i] = 1*(f(test_x[i,:])>0.5)\n",
    "    end\n",
    "    return preds\n",
    "end\n",
    "\n",
    "function evaluate(test_x, test_y, f)\n",
    "    tot = 0\n",
    "    preds = zeros(length(test_y))\n",
    "    n = size(test_x)[1]\n",
    "    for i in 1:n\n",
    "        preds[i] = 1*(f(test_x[i,:])>0.5)\n",
    "        tot += 1*(preds[i] == test_y[i])\n",
    "    end\n",
    "    return tot*1.0 / n, preds\n",
    "end"
   ]
  },
  {
   "cell_type": "code",
   "execution_count": 94,
   "metadata": {},
   "outputs": [
    {
     "data": {
      "text/plain": [
       "(0.966, [0.0, 0.0, 0.0, 0.0, 0.0, 0.0, 0.0, 0.0, 0.0, 0.0  …  0.0, 0.0, 0.0, 0.0, 0.0, 0.0, 1.0, 0.0, 1.0, 0.0])"
      ]
     },
     "execution_count": 94,
     "metadata": {},
     "output_type": "execute_result"
    }
   ],
   "source": [
    "pred, objs = batchgd(X, y, 0, 200);\n",
    "score, preds = evaluate(Xte, yte, pred)\n",
    "# sum(get_preds(Xte, pred) .== 0)"
   ]
  },
  {
   "cell_type": "code",
   "execution_count": 82,
   "metadata": {},
   "outputs": [
    {
     "data": {
      "text/plain": [
       "17-element Array{Float64,1}:\n",
       " 33193.3  \n",
       " 27390.8  \n",
       " 23039.0  \n",
       " 19557.5  \n",
       " 16656.3  \n",
       " 14169.5  \n",
       " 11993.6  \n",
       " 10059.5  \n",
       "  8318.72 \n",
       "  6736.23 \n",
       "  5285.62 \n",
       "  3946.59 \n",
       "  2703.21 \n",
       "  1543.66 \n",
       "   757.871\n",
       "   716.768\n",
       "   715.957"
      ]
     },
     "execution_count": 82,
     "metadata": {},
     "output_type": "execute_result"
    }
   ],
   "source": [
    "objs"
   ]
  },
  {
   "cell_type": "markdown",
   "metadata": {},
   "source": [
    "## SGD"
   ]
  },
  {
   "cell_type": "code",
   "execution_count": 95,
   "metadata": {},
   "outputs": [
    {
     "data": {
      "text/plain": [
       "sgd (generic function with 3 methods)"
      ]
     },
     "execution_count": 95,
     "metadata": {},
     "output_type": "execute_result"
    }
   ],
   "source": [
    "function sgd(X, y, λ, n_epochs, ϵ=0.01, kern=\"gaussian\")    \n",
    "    n = size(X)[1]\n",
    "    if kern == \"gaussian\"\n",
    "        σ = get_σ(X)\n",
    "        k = give_gaus_kern(σ)\n",
    "        \n",
    "    elseif kern == \"linear\"\n",
    "        k = dot\n",
    "    end\n",
    "    \n",
    "    K = create_kernel_matrix(k, X)\n",
    "    \n",
    "    γ = get_γ(K, λ)\n",
    "        \n",
    "    c = zeros(n)\n",
    "    objectives = zeros(n_epochs)\n",
    "\n",
    "    Kc =  K*c\n",
    "    \n",
    "    for epoch in 1:n_epochs\n",
    "        i = rand(1:n)\n",
    "        Kc_i_old = K[:,i].*c[i]\n",
    "        c[i] = c[i] + γ.*(y[i] - sigmoid(Kc[i]) + 2*λ.*c[i])\n",
    "        \n",
    "        # update Kc in linear time\n",
    "        Kc = Kc - Kc_i_old + K[:,i].*c[i]\n",
    "        \n",
    "        objectives[epoch] = cost(c, K, y)\n",
    "        # can't use the same test for convergence since SGD isn't technically a string descent\n",
    "        \n",
    "    end\n",
    "    \n",
    "    \n",
    "    function prob_predictor(z)\n",
    "        tot = 0\n",
    "        for i in 1:n\n",
    "            tot += k(X[i,:], z)*c[i]\n",
    "        end\n",
    "\n",
    "        return 1.0 / (1 + e^(-tot))\n",
    "    end\n",
    "    \n",
    "    return prob_predictor, objectives\n",
    "end"
   ]
  },
  {
   "cell_type": "code",
   "execution_count": 96,
   "metadata": {},
   "outputs": [
    {
     "data": {
      "text/plain": [
       "(0.943, [0.0, 0.0, 1.0, 0.0, 0.0, 0.0, 0.0, 0.0, 0.0, 0.0  …  0.0, 0.0, 0.0, 0.0, 0.0, 0.0, 1.0, 0.0, 1.0, 0.0])"
      ]
     },
     "execution_count": 96,
     "metadata": {},
     "output_type": "execute_result"
    }
   ],
   "source": [
    "pred, objs = sgd(X, y, 0, 1000);\n",
    "score, preds = evaluate(Xte, yte, pred)"
   ]
  },
  {
   "cell_type": "code",
   "execution_count": 97,
   "metadata": {},
   "outputs": [
    {
     "data": {
      "text/plain": [
       "1000-element Array{Float64,1}:\n",
       " 735.44 \n",
       " 777.018\n",
       " 814.809\n",
       " 847.648\n",
       " 719.403\n",
       " 768.808\n",
       " 801.761\n",
       " 821.015\n",
       " 842.924\n",
       " 886.075\n",
       " 901.715\n",
       " 912.481\n",
       " 925.415\n",
       "   ⋮    \n",
       " 653.688\n",
       " 653.731\n",
       " 638.99 \n",
       " 639.371\n",
       " 639.609\n",
       " 640.219\n",
       " 637.474\n",
       " 639.489\n",
       " 655.24 \n",
       " 658.616\n",
       " 660.885\n",
       " 660.928"
      ]
     },
     "execution_count": 97,
     "metadata": {},
     "output_type": "execute_result"
    }
   ],
   "source": [
    "# find(preds.>0)\\\n",
    "objs"
   ]
  },
  {
   "cell_type": "code",
   "execution_count": null,
   "metadata": {},
   "outputs": [],
   "source": []
  },
  {
   "cell_type": "code",
   "execution_count": null,
   "metadata": {},
   "outputs": [],
   "source": []
  }
 ],
 "metadata": {
  "kernelspec": {
   "display_name": "Julia 0.6.0",
   "language": "julia",
   "name": "julia-0.6"
  },
  "language_info": {
   "file_extension": ".jl",
   "mimetype": "application/julia",
   "name": "julia",
   "version": "0.6.0"
  }
 },
 "nbformat": 4,
 "nbformat_minor": 2
}
