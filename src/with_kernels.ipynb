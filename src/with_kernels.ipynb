{
 "cells": [
  {
   "cell_type": "code",
   "execution_count": 2,
   "metadata": {},
   "outputs": [
    {
     "data": {
      "text/plain": [
       "minibatchgd"
      ]
     },
     "execution_count": 2,
     "metadata": {},
     "output_type": "execute_result"
    }
   ],
   "source": [
    "\"\"\"\n",
    "Description: performs batch gradient descent for the log-likelihood objective function\n",
    "Inputs:\n",
    "    X: the (n x p) training data matrix (rows are points)\n",
    "    y: the (n x 1) vector of training labels {0,1}\n",
    "    λ: L2 regularization parameter\n",
    "    n_epochs: the number of gradient descent iterations\n",
    "    γ: the learning rate\n",
    "    ϵ: termination threshold; GD will stop early if objective value doesn't stop by > ϵ%\n",
    "    kernel: the kernel function (default linear kernel)\n",
    "\n",
    "Outputs:\n",
    "    prob_predictor: a function which maps an input data point to a probability that its label is 1\n",
    "\n",
    "\"\"\"\n",
    "function batchgd(X, y, K, λ=0, n_epochs=1000, γ=0.01, ϵ=0.01, kernel=dot)    \n",
    "    n = size(X)[1]\n",
    "\n",
    "#     if kernel==dot\n",
    "#         K = transpose(X)*X\n",
    "#     else\n",
    "#         K = create_kernel_matrix(kernel, X)\n",
    "#     end\n",
    "            \n",
    "    c = zeros(n)\n",
    "    objectives = zeros(n_epochs)\n",
    "    \n",
    "    c = c + γ*(y - sigmoid(K*c) + 2*λ.*c)\n",
    "    objectives[1] = cost(c, K, y)\n",
    "    \n",
    "    epochs_used = n_epochs\n",
    "    \n",
    "    for epoch in 2:n_epochs\n",
    "        c = c + γ.*(y - sigmoid(K*c) + 2*λ.*c)\n",
    "\n",
    "        objectives[epoch] = cost(c, K, y)\n",
    "        if abs(objectives[epoch] - objectives[epoch-1])/objectives[epoch] < ϵ\n",
    "            epochs_used = epoch\n",
    "            break\n",
    "        end\n",
    "    end\n",
    "    \n",
    "    function prob_predictor(z)\n",
    "        tot = 0\n",
    "        for i in 1:n\n",
    "            tot += kernel(X[i,:], z)*c[i]\n",
    "        end\n",
    "\n",
    "        return 1.0 / (1 + e^(-tot))\n",
    "    end\n",
    "    \n",
    "    return prob_predictor, epochs_used\n",
    "end\n",
    "\n",
    "\"\"\"\n",
    "Description: performs stochastic gradient descent for the log-likelihood objective function\n",
    "Parameters and output same as above.\n",
    "γ will be calculated if not provided\n",
    "\"\"\"\n",
    "function sgd(X, y, K, λ=0, n_epochs=1000, γ=nothing, ϵ=0.01, kernel=dot)    \n",
    "    n = size(X)[1]\n",
    "\n",
    "    \n",
    "#     if kernel==dot\n",
    "#         K = transpose(X)*X\n",
    "#     else\n",
    "#         K = create_kernel_matrix(kernel, X)\n",
    "#     end\n",
    "    \n",
    "    if γ == nothing\n",
    "        γ = get_γ(K, λ)\n",
    "    end\n",
    "        \n",
    "    c = zeros(n)\n",
    "\n",
    "    Kc =  K*c\n",
    "   \n",
    "    for epoch in 1:n_epochs\n",
    "        i = rand(1:n)\n",
    "        Kc_i_old = K[:,i].*c[i]\n",
    "        c[i] = c[i] + γ.*(y[i] - sigmoid(Kc[i]) + 2*λ.*c[i])\n",
    "        \n",
    "        # update Kc O(n)\n",
    "        Kc = Kc - Kc_i_old + K[:,i].*c[i]\n",
    "    end\n",
    "    \n",
    "    \n",
    "    function prob_predictor(z)\n",
    "        tot = 0\n",
    "        for i in 1:n\n",
    "            tot += kernel(X[i,:], z)*c[i]\n",
    "        end\n",
    "\n",
    "        return 1.0 / (1 + e^(-tot))\n",
    "    end\n",
    "    \n",
    "    return prob_predictor\n",
    "end\n",
    "\n",
    "\n",
    "\"\"\"\n",
    "Description: performs minibatch gradient descent for the log-likelihood objective function\n",
    "Parameters and output same as above, with one addition:\n",
    "    batch_size: the size of each batch during gradient descent (recommend batch_size around 30)\n",
    "\"\"\"\n",
    "function minibatchgd(X, y, K, λ=0, n_epochs=1000, batch_size=30, γ=0.01, ϵ=0.01, kernel=dot)    \n",
    "    n = size(X)[1]\n",
    "  \n",
    "#     if kernel==dot\n",
    "#         K = transpose(X)*X\n",
    "#     else\n",
    "#         K = create_kernel_matrix(kernel, X)\n",
    "#     end\n",
    "    \n",
    "    c = zeros(n)\n",
    "        \n",
    "    for epoch in 1:n_epochs\n",
    "        inds = sort(randperm(n)[1:batch_size])\n",
    "        c[inds] = c[inds] + γ*(y[inds] - sigmoid(K[inds,:]*c) + 2*λ.*c[inds])\n",
    "    end\n",
    "    \n",
    "    function prob_predictor(z)\n",
    "        tot = 0\n",
    "        for i in 1:n\n",
    "            tot += kernel(X[i,:], z)*c[i]\n",
    "        end\n",
    "\n",
    "        return 1.0 / (1 + e^(-tot))\n",
    "    end\n",
    "    \n",
    "    return prob_predictor\n",
    "end\n",
    "\n",
    "\n",
    "\n",
    "\n"
   ]
  },
  {
   "cell_type": "code",
   "execution_count": 3,
   "metadata": {},
   "outputs": [],
   "source": [
    "using Plots, DataFrames\n",
    "function get_XY(csv)\n",
    "    df = readtable(csv)\n",
    "    return Matrix(df[2:end-1]), Array(df[:label])\n",
    "end;\n",
    "# X,y = get_XY(\"../examples/data/gaus_3D_train.csv\");\n",
    "# Xte, yte = get_XY(\"../examples/data/gaus_3D_test.csv\");"
   ]
  },
  {
   "cell_type": "code",
   "execution_count": null,
   "metadata": {},
   "outputs": [],
   "source": [
    "base = \"../examples/data/\""
   ]
  },
  {
   "cell_type": "code",
   "execution_count": 8,
   "metadata": {},
   "outputs": [],
   "source": [
    "# include(\"LogReg.jl\")\n",
    "using LogReg\n",
    "include(\"KernLogRegUtils.jl\")\n",
    "using KernLogRegUtils"
   ]
  },
  {
   "cell_type": "code",
   "execution_count": 240,
   "metadata": {},
   "outputs": [],
   "source": [
    "X,y = get_XY(\"../examples/data/gaus_1000_20_train.csv\");\n",
    "Xte, yte = get_XY(\"../examples/data/gaus_100_20_test.csv\");"
   ]
  },
  {
   "cell_type": "code",
   "execution_count": 241,
   "metadata": {},
   "outputs": [
    {
     "data": {
      "text/plain": [
       "(1000, 20)"
      ]
     },
     "execution_count": 241,
     "metadata": {},
     "output_type": "execute_result"
    }
   ],
   "source": [
    "size(X)"
   ]
  },
  {
   "cell_type": "code",
   "execution_count": 242,
   "metadata": {},
   "outputs": [],
   "source": [
    "σ = get_σ(X);\n",
    "gaussian_kernel = give_gaus_kern(σ);"
   ]
  },
  {
   "cell_type": "code",
   "execution_count": 243,
   "metadata": {},
   "outputs": [
    {
     "name": "stdout",
     "output_type": "stream",
     "text": [
      "elapsed time: 0.301449217 seconds\n"
     ]
    },
    {
     "data": {
      "text/plain": [
       "0.301449217"
      ]
     },
     "execution_count": 243,
     "metadata": {},
     "output_type": "execute_result"
    }
   ],
   "source": [
    "tic()\n",
    "K = create_kernel_matrix(gaussian_kernel, X)\n",
    "toc()"
   ]
  },
  {
   "cell_type": "code",
   "execution_count": 256,
   "metadata": {},
   "outputs": [
    {
     "name": "stdout",
     "output_type": "stream",
     "text": [
      "elapsed time: 1.023209297 seconds\n"
     ]
    },
    {
     "data": {
      "text/plain": [
       "1.023209297"
      ]
     },
     "execution_count": 256,
     "metadata": {},
     "output_type": "execute_result"
    }
   ],
   "source": [
    "tic()\n",
    "pred, iters = batchgd(X, y, K, 0, 3000, 10, 0.01, gaussian_kernel)\n",
    "toc()"
   ]
  },
  {
   "cell_type": "code",
   "execution_count": 257,
   "metadata": {},
   "outputs": [
    {
     "data": {
      "text/plain": [
       "1589"
      ]
     },
     "execution_count": 257,
     "metadata": {},
     "output_type": "execute_result"
    }
   ],
   "source": [
    "iters"
   ]
  },
  {
   "cell_type": "code",
   "execution_count": 258,
   "metadata": {},
   "outputs": [
    {
     "name": "stdout",
     "output_type": "stream",
     "text": [
      "0.78"
     ]
    }
   ],
   "source": [
    "batch_score, preds = evaluate(Xte, yte, pred);\n",
    "print(batch_score)"
   ]
  },
  {
   "cell_type": "code",
   "execution_count": null,
   "metadata": {},
   "outputs": [],
   "source": [
    "# length(find(yte))"
   ]
  },
  {
   "cell_type": "code",
   "execution_count": null,
   "metadata": {},
   "outputs": [],
   "source": []
  }
 ],
 "metadata": {
  "kernelspec": {
   "display_name": "Julia 0.6.0",
   "language": "julia",
   "name": "julia-0.6"
  },
  "language_info": {
   "file_extension": ".jl",
   "mimetype": "application/julia",
   "name": "julia",
   "version": "0.6.0"
  }
 },
 "nbformat": 4,
 "nbformat_minor": 2
}
