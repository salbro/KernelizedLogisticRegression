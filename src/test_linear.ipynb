{
 "cells": [
  {
   "cell_type": "code",
   "execution_count": 1,
   "metadata": {},
   "outputs": [
    {
     "data": {
      "text/plain": [
       "minibatchgd"
      ]
     },
     "execution_count": 1,
     "metadata": {},
     "output_type": "execute_result"
    }
   ],
   "source": [
    "\n",
    "\n",
    "\"\"\"\n",
    "Description: performs batch gradient descent for the log-likelihood objective function\n",
    "Inputs:\n",
    "    X: the (n x p) training data matrix (rows are points)\n",
    "    y: the (n x 1) vector of training labels {0,1}\n",
    "    λ: L2 regularization parameter\n",
    "    n_epochs: the number of gradient descent iterations\n",
    "    γ: the learning rate\n",
    "    ϵ: termination threshold; GD will stop early if objective value doesn't stop by > ϵ%\n",
    "    kernel: the kernel function (default linear kernel)\n",
    "\n",
    "Outputs:\n",
    "    prob_predictor: a function which maps an input data point to a probability that its label is 1\n",
    "\n",
    "\"\"\"\n",
    "function batchgd(X, y, K, λ=0, n_epochs=1000, γ=0.01, ϵ=0.01, kernel=dot)    \n",
    "    n = size(X)[1]\n",
    "\n",
    "#     if kernel==dot\n",
    "#         K = transpose(X)*X\n",
    "#     else\n",
    "#         K = create_kernel_matrix(kernel, X)\n",
    "#     end\n",
    "            \n",
    "    c = zeros(n)\n",
    "    objectives = zeros(n_epochs)\n",
    "    \n",
    "    c = c + γ*(y - sigmoid(K*c) + 2*λ.*c)\n",
    "    objectives[1] = cost(c, K, y)\n",
    "    \n",
    "    \n",
    "    \n",
    "    epochs_used = n_epochs\n",
    "    \n",
    "    for epoch in 2:n_epochs\n",
    "        c = c + γ.*(y - sigmoid(K*c) + 2*λ.*c)\n",
    "\n",
    "        objectives[epoch] = cost(c, K, y)\n",
    "        if abs(objectives[epoch] - objectives[epoch-1])/objectives[epoch] < ϵ\n",
    "            epochs_used = epoch\n",
    "            break\n",
    "        end\n",
    "    end\n",
    "    \n",
    "    function prob_predictor(z)\n",
    "        tot = 0\n",
    "        for i in 1:n\n",
    "            tot += kernel(X[i,:], z)*c[i]\n",
    "        end\n",
    "\n",
    "        return 1.0 / (1 + e^(-tot))\n",
    "    end\n",
    "    \n",
    "    return prob_predictor, epochs_used\n",
    "end\n",
    "\n",
    "\"\"\"\n",
    "Description: performs stochastic gradient descent for the log-likelihood objective function\n",
    "Parameters and output same as above.\n",
    "γ will be calculated if not provided\n",
    "\"\"\"\n",
    "function sgd(X, y, K, λ=0, n_epochs=1000, γ=nothing, ϵ=0.01, kernel=dot)    \n",
    "    n = size(X)[1]\n",
    "\n",
    "    \n",
    "#     if kernel==dot\n",
    "#         K = transpose(X)*X\n",
    "#     else\n",
    "#         K = create_kernel_matrix(kernel, X)\n",
    "#     end\n",
    "    \n",
    "    if γ == nothing\n",
    "        γ = get_γ(K, λ)\n",
    "    end\n",
    "        \n",
    "    c = zeros(n)\n",
    "\n",
    "    Kc =  K*c\n",
    "   \n",
    "    for epoch in 1:n_epochs\n",
    "        i = rand(1:n)\n",
    "        Kc_i_old = K[:,i].*c[i]\n",
    "        c[i] = c[i] + γ.*(y[i] - sigmoid(Kc[i]) + 2*λ.*c[i])\n",
    "        \n",
    "        # update Kc O(n)\n",
    "        Kc = Kc - Kc_i_old + K[:,i].*c[i]\n",
    "    end\n",
    "    \n",
    "    \n",
    "    function prob_predictor(z)\n",
    "        tot = 0\n",
    "        for i in 1:n\n",
    "            tot += kernel(X[i,:], z)*c[i]\n",
    "        end\n",
    "\n",
    "        return 1.0 / (1 + e^(-tot))\n",
    "    end\n",
    "    \n",
    "    return prob_predictor\n",
    "end\n",
    "\n",
    "\n",
    "\"\"\"\n",
    "Description: performs minibatch gradient descent for the log-likelihood objective function\n",
    "Parameters and output same as above, with one addition:\n",
    "    batch_size: the size of each batch during gradient descent (recommend batch_size around 30)\n",
    "\"\"\"\n",
    "function minibatchgd(X, y, K, λ=0, n_epochs=1000, batch_size=30, γ=0.01, ϵ=0.01, kernel=dot)    \n",
    "    n = size(X)[1]\n",
    "  \n",
    "#     if kernel==dot\n",
    "#         K = transpose(X)*X\n",
    "#     else\n",
    "#         K = create_kernel_matrix(kernel, X)\n",
    "#     end\n",
    "    \n",
    "    c = zeros(n)\n",
    "        \n",
    "    for epoch in 1:n_epochs\n",
    "        inds = sort(randperm(n)[1:batch_size])\n",
    "        c[inds] = c[inds] + γ*(y[inds] - sigmoid(K[inds,:]*c) + 2*λ.*c[inds])\n",
    "    end\n",
    "    \n",
    "    function prob_predictor(z)\n",
    "        tot = 0\n",
    "        for i in 1:n\n",
    "            tot += kernel(X[i,:], z)*c[i]\n",
    "        end\n",
    "\n",
    "        return 1.0 / (1 + e^(-tot))\n",
    "    end\n",
    "    \n",
    "    return prob_predictor\n",
    "end\n",
    "\n",
    "\n",
    "\n",
    "\n"
   ]
  },
  {
   "cell_type": "code",
   "execution_count": 2,
   "metadata": {},
   "outputs": [],
   "source": [
    "# include(\"LogReg.jl\")\n",
    "# using LogReg\n",
    "include(\"KernLogRegUtils.jl\")\n",
    "using KernLogRegUtils"
   ]
  },
  {
   "cell_type": "code",
   "execution_count": 3,
   "metadata": {},
   "outputs": [
    {
     "name": "stderr",
     "output_type": "stream",
     "text": [
      "WARNING: using LogReg.batchgd in module Main conflicts with an existing identifier.\n",
      "WARNING: using LogReg.minibatchgd in module Main conflicts with an existing identifier.\n",
      "WARNING: using LogReg.sgd in module Main conflicts with an existing identifier.\n"
     ]
    }
   ],
   "source": [
    "include(\"LogReg.jl\")\n",
    "using LogReg"
   ]
  },
  {
   "cell_type": "code",
   "execution_count": 4,
   "metadata": {},
   "outputs": [],
   "source": [
    "using Plots, DataFrames\n",
    "function get_XY(csv)\n",
    "    df = readtable(csv)\n",
    "    return Matrix(df[2:end-1]), Array(df[:label])\n",
    "end;"
   ]
  },
  {
   "cell_type": "code",
   "execution_count": 110,
   "metadata": {},
   "outputs": [],
   "source": [
    "X,y = get_XY(\"../examples/data/lin_10k_20_train.csv\");\n",
    "Xte, yte = get_XY(\"../examples/data/lin_1k_20_test.csv\");"
   ]
  },
  {
   "cell_type": "code",
   "execution_count": 111,
   "metadata": {},
   "outputs": [
    {
     "data": {
      "text/plain": [
       "(10000, 21)"
      ]
     },
     "execution_count": 111,
     "metadata": {},
     "output_type": "execute_result"
    }
   ],
   "source": [
    "size(X)"
   ]
  },
  {
   "cell_type": "code",
   "execution_count": 112,
   "metadata": {},
   "outputs": [
    {
     "name": "stdout",
     "output_type": "stream",
     "text": [
      "elapsed time: 189.491374526 seconds\n"
     ]
    },
    {
     "data": {
      "text/plain": [
       "189.491374526"
      ]
     },
     "execution_count": 112,
     "metadata": {},
     "output_type": "execute_result"
    }
   ],
   "source": [
    "tic()\n",
    "K = create_kernel_matrix(dot, X)\n",
    "toc()"
   ]
  },
  {
   "cell_type": "code",
   "execution_count": 118,
   "metadata": {},
   "outputs": [
    {
     "name": "stdout",
     "output_type": "stream",
     "text": [
      "elapsed time: 0.512559983 seconds\n"
     ]
    },
    {
     "data": {
      "text/plain": [
       "0.512559983"
      ]
     },
     "execution_count": 118,
     "metadata": {},
     "output_type": "execute_result"
    }
   ],
   "source": [
    "tic()\n",
    "pred = minibatchgd(X, y, K, 1, 100, 30, 0.01, 0.01, dot)  \n",
    "toc()"
   ]
  },
  {
   "cell_type": "code",
   "execution_count": 116,
   "metadata": {},
   "outputs": [
    {
     "name": "stdout",
     "output_type": "stream",
     "text": [
      "0.914"
     ]
    }
   ],
   "source": [
    "batch_score, preds = evaluate(Xte, yte, pred);\n",
    "print(batch_score)"
   ]
  },
  {
   "cell_type": "code",
   "execution_count": null,
   "metadata": {},
   "outputs": [],
   "source": []
  },
  {
   "cell_type": "code",
   "execution_count": null,
   "metadata": {},
   "outputs": [],
   "source": []
  },
  {
   "cell_type": "code",
   "execution_count": null,
   "metadata": {},
   "outputs": [],
   "source": []
  },
  {
   "cell_type": "code",
   "execution_count": null,
   "metadata": {},
   "outputs": [],
   "source": []
  },
  {
   "cell_type": "code",
   "execution_count": null,
   "metadata": {},
   "outputs": [],
   "source": []
  },
  {
   "cell_type": "code",
   "execution_count": 34,
   "metadata": {},
   "outputs": [
    {
     "data": {
      "text/plain": [
       "488"
      ]
     },
     "execution_count": 34,
     "metadata": {},
     "output_type": "execute_result"
    }
   ],
   "source": [
    "length(find(yte))"
   ]
  },
  {
   "cell_type": "code",
   "execution_count": null,
   "metadata": {},
   "outputs": [],
   "source": []
  }
 ],
 "metadata": {
  "kernelspec": {
   "display_name": "Julia 0.6.0",
   "language": "julia",
   "name": "julia-0.6"
  },
  "language_info": {
   "file_extension": ".jl",
   "mimetype": "application/julia",
   "name": "julia",
   "version": "0.6.0"
  }
 },
 "nbformat": 4,
 "nbformat_minor": 2
}
